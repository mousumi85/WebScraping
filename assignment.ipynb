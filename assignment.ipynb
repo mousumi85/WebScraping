import requests

r = requests.get("https://medium.com/devops-dev/top-10-advanced-sql-queries-dd5717b7e902")
print (r.text)
